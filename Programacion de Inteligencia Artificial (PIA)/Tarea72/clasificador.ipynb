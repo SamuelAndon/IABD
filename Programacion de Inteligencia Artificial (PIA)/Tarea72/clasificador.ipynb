{
 "cells": [
  {
   "cell_type": "code",
   "execution_count": 6,
   "metadata": {
    "metadata": {}
   },
   "outputs": [],
   "source": [
    "import pandas as pd\n",
    "import torch\n",
    "import torch.nn.functional as F\n",
    "import torch.nn as nn"
   ]
  },
  {
   "cell_type": "code",
   "execution_count": 7,
   "metadata": {
    "metadata": {}
   },
   "outputs": [],
   "source": [
    "class StandardScaler:\n",
    "\n",
    "    def __init__(self, mean=None, std=None, epsilon=1e-7):\n",
    "     \n",
    "        self.mean = mean\n",
    "        self.std = std\n",
    "        self.epsilon = epsilon\n",
    "\n",
    "    def fit(self, values):\n",
    "        dims = list(range(values.dim() - 1))\n",
    "        self.mean = torch.mean(values, dim=dims)\n",
    "        self.std = torch.std(values, dim=dims)\n",
    "\n",
    "    def transform(self, values):\n",
    "        return (values - self.mean) / (self.std + self.epsilon)\n",
    "\n",
    "    def fit_transform(self, values):\n",
    "        self.fit(values)\n",
    "        return self.transform(values)\n",
    "\n",
    "    def __repr__(self):\n",
    "        return f\"mean: {self.mean}, std:{self.std}, epsilon:{self.epsilon}\""
   ]
  },
  {
   "cell_type": "code",
   "execution_count": 8,
   "metadata": {
    "metadata": {}
   },
   "outputs": [],
   "source": [
    "class Model(nn.Module):\n",
    "    def __init__(self, input_dim):\n",
    "        super(Model, self).__init__()\n",
    "        self.layer1 = nn.Linear(input_dim, 50)\n",
    "        self.layer2 = nn.Linear(50, 50)\n",
    "        self.layer3 = nn.Linear(in_features=50, out_features=3)\n",
    "        \n",
    "    def forward(self, x):\n",
    "        x = F.relu(self.layer1(x))\n",
    "        x = F.relu(self.layer2(x))\n",
    "        x = F.softmax(self.layer3(x), dim=1)\n",
    "        return x"
   ]
  },
  {
   "cell_type": "code",
   "execution_count": 9,
   "metadata": {
    "metadata": {}
   },
   "outputs": [
    {
     "name": "stdout",
     "output_type": "stream",
     "text": [
      "tensor([[    0.999881,     0.000119,     0.000000],\n",
      "        [    0.998057,     0.001943,     0.000000],\n",
      "        [    0.000088,     0.503979,     0.495934],\n",
      "        [    0.000000,     0.000002,     0.999998],\n",
      "        [    0.000067,     0.999548,     0.000385]],\n",
      "       grad_fn=<SoftmaxBackward0>)\n"
     ]
    }
   ],
   "source": [
    "irisDatasetCinco = pd.read_csv(\"iris_cinco.data\", \n",
    "                          names=[\"sepallength\",\"sepalwidth\",\n",
    "                                 \"petallength\",\"petalwidth\"])\n",
    "\n",
    "s1=irisDatasetCinco.iloc[:,0:4].values\n",
    "x_tensor = torch.tensor(s1)\n",
    "scaler = StandardScaler(mean = torch.tensor([5.84, 3.05, 3.76, 1.20]), std = torch.tensor([0.83, 0.43, 1.76, 0.76]))\n",
    "XScalada = scaler.fit_transform(x_tensor).type(torch.float32)\n",
    "\n",
    "model = Model(4)\n",
    "\n",
    "model.load_state_dict(torch.load(\"pesos.pt\"))\n",
    "model.eval()\n",
    "torch.set_printoptions(precision=6, sci_mode=False)\n",
    "saida = model(XScalada)\n",
    "print(saida)"
   ]
  }
 ],
 "metadata": {
  "kernelspec": {
   "display_name": "iri_dataset",
   "language": "python",
   "name": "python3"
  },
  "language_info": {
   "codemirror_mode": {
    "name": "ipython",
    "version": 3
   },
   "file_extension": ".py",
   "mimetype": "text/x-python",
   "name": "python",
   "nbconvert_exporter": "python",
   "pygments_lexer": "ipython3",
   "version": "3.10.14"
  }
 },
 "nbformat": 4,
 "nbformat_minor": 2
}
