{
 "cells": [
  {
   "cell_type": "markdown",
   "metadata": {},
   "source": [
    "### Importación de librerias"
   ]
  },
  {
   "cell_type": "code",
   "execution_count": 105,
   "metadata": {},
   "outputs": [],
   "source": [
    "import pandas as pd\n",
    "from torch.utils.data import Dataset\n",
    "import torch\n",
    "from torch.utils.data import random_split\n",
    "import torch.nn.functional as F\n",
    "import torch.nn as nn\n",
    "import torch\n",
    "from torchmetrics import MeanSquaredError, MeanAbsoluteError, R2Score"
   ]
  },
  {
   "cell_type": "markdown",
   "metadata": {},
   "source": [
    "### Cargamos los datos"
   ]
  },
  {
   "cell_type": "code",
   "execution_count": 106,
   "metadata": {},
   "outputs": [
    {
     "data": {
      "text/html": [
       "<div>\n",
       "<style scoped>\n",
       "    .dataframe tbody tr th:only-of-type {\n",
       "        vertical-align: middle;\n",
       "    }\n",
       "\n",
       "    .dataframe tbody tr th {\n",
       "        vertical-align: top;\n",
       "    }\n",
       "\n",
       "    .dataframe thead th {\n",
       "        text-align: right;\n",
       "    }\n",
       "</style>\n",
       "<table border=\"1\" class=\"dataframe\">\n",
       "  <thead>\n",
       "    <tr style=\"text-align: right;\">\n",
       "      <th></th>\n",
       "      <th>Frequency (Hz)</th>\n",
       "      <th>Angle of attack (ºC)</th>\n",
       "      <th>Chord length (m)</th>\n",
       "      <th>Free-stream velocity (m/s)</th>\n",
       "      <th>Suction side displacement thickness (m)</th>\n",
       "      <th>pressure level (dB)</th>\n",
       "    </tr>\n",
       "  </thead>\n",
       "  <tbody>\n",
       "    <tr>\n",
       "      <th>0</th>\n",
       "      <td>800</td>\n",
       "      <td>0.0</td>\n",
       "      <td>0.3048</td>\n",
       "      <td>71.3</td>\n",
       "      <td>0.002663</td>\n",
       "      <td>126.201</td>\n",
       "    </tr>\n",
       "    <tr>\n",
       "      <th>1</th>\n",
       "      <td>1000</td>\n",
       "      <td>0.0</td>\n",
       "      <td>0.3048</td>\n",
       "      <td>71.3</td>\n",
       "      <td>0.002663</td>\n",
       "      <td>125.201</td>\n",
       "    </tr>\n",
       "    <tr>\n",
       "      <th>2</th>\n",
       "      <td>1250</td>\n",
       "      <td>0.0</td>\n",
       "      <td>0.3048</td>\n",
       "      <td>71.3</td>\n",
       "      <td>0.002663</td>\n",
       "      <td>125.951</td>\n",
       "    </tr>\n",
       "    <tr>\n",
       "      <th>3</th>\n",
       "      <td>1600</td>\n",
       "      <td>0.0</td>\n",
       "      <td>0.3048</td>\n",
       "      <td>71.3</td>\n",
       "      <td>0.002663</td>\n",
       "      <td>127.591</td>\n",
       "    </tr>\n",
       "    <tr>\n",
       "      <th>4</th>\n",
       "      <td>2000</td>\n",
       "      <td>0.0</td>\n",
       "      <td>0.3048</td>\n",
       "      <td>71.3</td>\n",
       "      <td>0.002663</td>\n",
       "      <td>127.461</td>\n",
       "    </tr>\n",
       "    <tr>\n",
       "      <th>...</th>\n",
       "      <td>...</td>\n",
       "      <td>...</td>\n",
       "      <td>...</td>\n",
       "      <td>...</td>\n",
       "      <td>...</td>\n",
       "      <td>...</td>\n",
       "    </tr>\n",
       "    <tr>\n",
       "      <th>1498</th>\n",
       "      <td>2500</td>\n",
       "      <td>15.6</td>\n",
       "      <td>0.1016</td>\n",
       "      <td>39.6</td>\n",
       "      <td>0.052849</td>\n",
       "      <td>110.264</td>\n",
       "    </tr>\n",
       "    <tr>\n",
       "      <th>1499</th>\n",
       "      <td>3150</td>\n",
       "      <td>15.6</td>\n",
       "      <td>0.1016</td>\n",
       "      <td>39.6</td>\n",
       "      <td>0.052849</td>\n",
       "      <td>109.254</td>\n",
       "    </tr>\n",
       "    <tr>\n",
       "      <th>1500</th>\n",
       "      <td>4000</td>\n",
       "      <td>15.6</td>\n",
       "      <td>0.1016</td>\n",
       "      <td>39.6</td>\n",
       "      <td>0.052849</td>\n",
       "      <td>106.604</td>\n",
       "    </tr>\n",
       "    <tr>\n",
       "      <th>1501</th>\n",
       "      <td>5000</td>\n",
       "      <td>15.6</td>\n",
       "      <td>0.1016</td>\n",
       "      <td>39.6</td>\n",
       "      <td>0.052849</td>\n",
       "      <td>106.224</td>\n",
       "    </tr>\n",
       "    <tr>\n",
       "      <th>1502</th>\n",
       "      <td>6300</td>\n",
       "      <td>15.6</td>\n",
       "      <td>0.1016</td>\n",
       "      <td>39.6</td>\n",
       "      <td>0.052849</td>\n",
       "      <td>104.204</td>\n",
       "    </tr>\n",
       "  </tbody>\n",
       "</table>\n",
       "<p>1503 rows × 6 columns</p>\n",
       "</div>"
      ],
      "text/plain": [
       "      Frequency (Hz)  Angle of attack (ºC)  Chord length (m)  \\\n",
       "0                800                   0.0            0.3048   \n",
       "1               1000                   0.0            0.3048   \n",
       "2               1250                   0.0            0.3048   \n",
       "3               1600                   0.0            0.3048   \n",
       "4               2000                   0.0            0.3048   \n",
       "...              ...                   ...               ...   \n",
       "1498            2500                  15.6            0.1016   \n",
       "1499            3150                  15.6            0.1016   \n",
       "1500            4000                  15.6            0.1016   \n",
       "1501            5000                  15.6            0.1016   \n",
       "1502            6300                  15.6            0.1016   \n",
       "\n",
       "      Free-stream velocity (m/s)  Suction side displacement thickness (m)  \\\n",
       "0                           71.3                                 0.002663   \n",
       "1                           71.3                                 0.002663   \n",
       "2                           71.3                                 0.002663   \n",
       "3                           71.3                                 0.002663   \n",
       "4                           71.3                                 0.002663   \n",
       "...                          ...                                      ...   \n",
       "1498                        39.6                                 0.052849   \n",
       "1499                        39.6                                 0.052849   \n",
       "1500                        39.6                                 0.052849   \n",
       "1501                        39.6                                 0.052849   \n",
       "1502                        39.6                                 0.052849   \n",
       "\n",
       "      pressure level (dB)  \n",
       "0                 126.201  \n",
       "1                 125.201  \n",
       "2                 125.951  \n",
       "3                 127.591  \n",
       "4                 127.461  \n",
       "...                   ...  \n",
       "1498              110.264  \n",
       "1499              109.254  \n",
       "1500              106.604  \n",
       "1501              106.224  \n",
       "1502              104.204  \n",
       "\n",
       "[1503 rows x 6 columns]"
      ]
     },
     "execution_count": 106,
     "metadata": {},
     "output_type": "execute_result"
    }
   ],
   "source": [
    "airfoilDataset = pd.read_csv('/media/DIURNO/PIA/PyTorch/Tarea70/airfoil_self_noise.dat', sep='\\t',names=['Frequency (Hz)', 'Angle of attack (ºC)', 'Chord length (m)', 'Free-stream velocity (m/s)', 'Suction side displacement thickness (m)', 'pressure level (dB)'])\n",
    "X = airfoilDataset.loc[:, ~airfoilDataset.columns.isin(['pressure level (dB)'])]\n",
    "Y = airfoilDataset[[\"pressure level (dB)\"]]\n",
    "airfoilDataset"
   ]
  },
  {
   "cell_type": "markdown",
   "metadata": {},
   "source": [
    "### Transformaciones"
   ]
  },
  {
   "cell_type": "code",
   "execution_count": 107,
   "metadata": {},
   "outputs": [],
   "source": [
    "class StandardScaler:\n",
    "\n",
    "    def __init__(self, mean=None, std=None, epsilon=1e-7):\n",
    "        self.mean = mean\n",
    "        self.std = std\n",
    "        self.epsilon = epsilon\n",
    "\n",
    "    def fit(self, values):\n",
    "        dims = list(range(values.dim() - 1))\n",
    "        self.mean = torch.mean(values, dim=dims)\n",
    "        self.std = torch.std(values, dim=dims)\n",
    "\n",
    "    def transform(self, values):\n",
    "        return (values - self.mean) / (self.std + self.epsilon)\n",
    "\n",
    "    def fit_transform(self, values):\n",
    "        self.fit(values)\n",
    "        return self.transform(values)\n",
    "\n",
    "    def __repr__(self):\n",
    "        return f\"mean: {self.mean}, std:{self.std}, epsilon:{self.epsilon}\""
   ]
  },
  {
   "cell_type": "code",
   "execution_count": 108,
   "metadata": {},
   "outputs": [],
   "source": [
    "class AirfoilDataset(Dataset):\n",
    "  def __init__(self, src_file, root_dir, transform=None):\n",
    "    airfoilDataset = pd.read_csv(src_file, sep='\\t',names=['Frequency (Hz)', 'Angle of attack (ºC)', 'Chord length (m)', 'Free-stream velocity (m/s)', 'Suction side displacement thickness (m)', 'pressure level (dB)'])\n",
    "    X = airfoilDataset.loc[:, ~airfoilDataset.columns.isin(['pressure level (dB)'])]\n",
    "    Y = airfoilDataset[[\"pressure level (dB)\"]]\n",
    "\n",
    "    s1=X.iloc[:,0:5].values\n",
    "    x_tensor = torch.tensor(s1)\n",
    "    \n",
    "    y_tensor = torch.tensor(Y.values).type(torch.float32)\n",
    "    \n",
    "    scaler = StandardScaler()\n",
    "    XScalada = scaler.fit_transform(x_tensor).type(torch.float32)\n",
    "\n",
    "    self.data = torch.cat((XScalada,y_tensor),1)\n",
    "    self.root_dir = root_dir\n",
    "    self.transform = transform\n",
    "\n",
    "  def __len__(self):\n",
    "    return len(self.data)\n",
    "\n",
    "  def __getitem__(self, idx):\n",
    "    if torch.is_tensor(idx):\n",
    "      idx = idx.tolist()\n",
    "    preds = self.data[idx, 0:5]\n",
    "    spcs = self.data[idx, 5:]\n",
    "    sample = (preds, spcs)\n",
    "    if self.transform:\n",
    "      sample = self.transform(sample)\n",
    "    return sample"
   ]
  },
  {
   "cell_type": "markdown",
   "metadata": {},
   "source": [
    "### Cargamos los datos"
   ]
  },
  {
   "cell_type": "code",
   "execution_count": 109,
   "metadata": {},
   "outputs": [
    {
     "data": {
      "text/plain": [
       "(tensor([-0.6618, -1.1460,  1.7987,  1.3125, -0.6446]), tensor([126.2010]))"
      ]
     },
     "metadata": {},
     "output_type": "display_data"
    }
   ],
   "source": [
    "dataset = AirfoilDataset(\"airfoil_self_noise.dat\",\".\")\n",
    "display(dataset[0])"
   ]
  },
  {
   "cell_type": "markdown",
   "metadata": {},
   "source": [
    "### División train y test"
   ]
  },
  {
   "cell_type": "code",
   "execution_count": 110,
   "metadata": {},
   "outputs": [
    {
     "name": "stdout",
     "output_type": "stream",
     "text": [
      "Tam dataset: 1503 train: 1202 tamVal: 301\n"
     ]
    }
   ],
   "source": [
    "lonxitudeDataset = len(dataset)\n",
    "tamTrain =int(lonxitudeDataset*0.8)\n",
    "tamVal = lonxitudeDataset - tamTrain\n",
    "print(f\"Tam dataset: {lonxitudeDataset} train: {tamTrain} tamVal: {tamVal}\")\n",
    "train_set, val_set = random_split(dataset,[tamTrain,tamVal])\n",
    "train_ldr = torch.utils.data.DataLoader(train_set, batch_size=2,\n",
    "    shuffle=True, drop_last=False)\n",
    "validation_loader =torch.utils.data.DataLoader(val_set, batch_size=4, shuffle=False, drop_last=True)"
   ]
  },
  {
   "cell_type": "markdown",
   "metadata": {},
   "source": [
    "### Creación del modelo"
   ]
  },
  {
   "cell_type": "code",
   "execution_count": 111,
   "metadata": {},
   "outputs": [],
   "source": [
    "class Model(nn.Module):\n",
    "    def __init__(self, entradas):\n",
    "        super(Model, self).__init__()\n",
    "        self.layer1 = nn.Linear(entradas, 100)\n",
    "        self.layer2 = nn.Linear(100, 50)\n",
    "        self.layer3 = nn.Linear(in_features=50, out_features=1)\n",
    "        \n",
    "    def forward(self, x):\n",
    "        x = F.relu(self.layer1(x))\n",
    "        x = F.relu(self.layer2(x))\n",
    "        x = F.relu(self.layer3(x))\n",
    "        return x"
   ]
  },
  {
   "cell_type": "markdown",
   "metadata": {},
   "source": [
    "### Instanciamos el modelo"
   ]
  },
  {
   "cell_type": "code",
   "execution_count": 112,
   "metadata": {},
   "outputs": [
    {
     "data": {
      "text/plain": [
       "Model(\n",
       "  (layer1): Linear(in_features=5, out_features=100, bias=True)\n",
       "  (layer2): Linear(in_features=100, out_features=50, bias=True)\n",
       "  (layer3): Linear(in_features=50, out_features=1, bias=True)\n",
       ")"
      ]
     },
     "metadata": {},
     "output_type": "display_data"
    }
   ],
   "source": [
    "model     = Model(5)\n",
    "optimizer = torch.optim.Adam(model.parameters(), lr=0.01)\n",
    "loss_fn   = nn.MSELoss(reduction='sum')\n",
    "display(model)"
   ]
  },
  {
   "cell_type": "code",
   "execution_count": 113,
   "metadata": {},
   "outputs": [
    {
     "name": "stdout",
     "output_type": "stream",
     "text": [
      "Entrada:\n"
     ]
    },
    {
     "data": {
      "text/plain": [
       "tensor([[-0.7157, -0.4701,  1.7987, -0.7231, -0.4063],\n",
       "        [-0.5191, -0.6391,  1.7987,  0.2979, -0.5030]])"
      ]
     },
     "metadata": {},
     "output_type": "display_data"
    },
    {
     "name": "stdout",
     "output_type": "stream",
     "text": [
      "Desexada:\n"
     ]
    },
    {
     "data": {
      "text/plain": [
       "tensor([[131.0730],\n",
       "        [127.3290]])"
      ]
     },
     "metadata": {},
     "output_type": "display_data"
    },
    {
     "name": "stdout",
     "output_type": "stream",
     "text": [
      "Saída:\n"
     ]
    },
    {
     "data": {
      "text/plain": [
       "tensor([[0.1674],\n",
       "        [0.1877]], grad_fn=<ReluBackward0>)"
      ]
     },
     "metadata": {},
     "output_type": "display_data"
    },
    {
     "data": {
      "text/plain": [
       "tensor(33301.1875, grad_fn=<MseLossBackward0>)"
      ]
     },
     "execution_count": 113,
     "metadata": {},
     "output_type": "execute_result"
    }
   ],
   "source": [
    "entradaProba,dest = next(iter(train_ldr))\n",
    "print(\"Entrada:\")\n",
    "display(entradaProba)\n",
    "print(\"Desexada:\")\n",
    "display(dest)\n",
    "saida = model(entradaProba) \n",
    "print(\"Saída:\")\n",
    "display(saida)\n",
    "loss_fn(saida, dest)"
   ]
  },
  {
   "cell_type": "markdown",
   "metadata": {},
   "source": [
    "### Función de entrenamiento"
   ]
  },
  {
   "cell_type": "code",
   "execution_count": 114,
   "metadata": {},
   "outputs": [],
   "source": [
    "def train_one_epoch(epoch_index, tb_writer):\n",
    "    running_loss = 0.\n",
    "    for i, data in enumerate(train_ldr):\n",
    "\n",
    "        inputs, labels = data\n",
    "\n",
    "        optimizer.zero_grad()\n",
    "\n",
    "        outputs = model(inputs)\n",
    "\n",
    "        loss = loss_fn(outputs, labels)\n",
    "        loss.backward()\n",
    "\n",
    "        optimizer.step()\n",
    "\n",
    "        running_loss += loss.item()\n",
    "\n",
    "    return running_loss / len(train_ldr)"
   ]
  },
  {
   "cell_type": "code",
   "execution_count": 115,
   "metadata": {},
   "outputs": [],
   "source": [
    "from torch.utils.tensorboard import SummaryWriter"
   ]
  },
  {
   "cell_type": "code",
   "execution_count": 116,
   "metadata": {},
   "outputs": [],
   "source": [
    "EPOCHS = 200\n",
    "writer = None\n",
    "tb = SummaryWriter()\n",
    "for epoch in range(EPOCHS):\n",
    "    model.train(True)\n",
    "    avg_loss = train_one_epoch(epoch, tb)\n",
    "\n",
    "    mean_squared_error = MeanSquaredError()\n",
    "    mean_absolute_error = MeanAbsoluteError()\n",
    "    r2Score = R2Score()\n",
    "    model.train(False)\n",
    "\n",
    "    with torch.no_grad():\n",
    "        for entradas, saidas in validation_loader:\n",
    "            voutputs = model(entradas)\n",
    "            mean_squared_error(voutputs,saidas)\n",
    "            mean_absolute_error(voutputs,saidas)\n",
    "            r2Score(voutputs,saidas)\n",
    "\n",
    "    errorMedio = mean_squared_error.compute()\n",
    "    errorAbsolute =mean_absolute_error.compute()\n",
    "    r2 = r2Score.compute()\n",
    "\n",
    "    tb.add_scalar('Promedio', avg_loss, epoch)\n",
    "    tb.add_scalar('Error Medio', errorMedio, epoch)\n",
    "    tb.add_scalar('Error Absoluto', errorAbsolute, epoch)\n",
    "    tb.add_scalar('r2', r2, epoch)"
   ]
  }
 ],
 "metadata": {
  "kernelspec": {
   "display_name": "tensorboard",
   "language": "python",
   "name": "python3"
  },
  "language_info": {
   "codemirror_mode": {
    "name": "ipython",
    "version": 3
   },
   "file_extension": ".py",
   "mimetype": "text/x-python",
   "name": "python",
   "nbconvert_exporter": "python",
   "pygments_lexer": "ipython3",
   "version": "3.10.14"
  }
 },
 "nbformat": 4,
 "nbformat_minor": 2
}
